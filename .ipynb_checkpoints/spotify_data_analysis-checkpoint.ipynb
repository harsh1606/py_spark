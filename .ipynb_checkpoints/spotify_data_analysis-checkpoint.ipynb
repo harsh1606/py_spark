{
 "cells": [
  {
   "cell_type": "code",
   "execution_count": 195,
   "id": "3dc8b1f4-9197-4621-98e9-607979f2d5f9",
   "metadata": {},
   "outputs": [],
   "source": [
    "from pyspark.sql import SparkSession\n",
    "import os\n",
    "from pyspark.sql.functions import max, min, col, round, avg, explode, from_json, count, sum, rank, dense_rank\n",
    "from pyspark.sql.window import Window\n",
    "from pyspark.sql.types import IntegerType, ArrayType, StringType\n",
    "\n",
    "import findspark\n",
    "findspark.init()"
   ]
  },
  {
   "cell_type": "code",
   "execution_count": 2,
   "id": "28957220-382d-472d-ae76-333f44b1fce2",
   "metadata": {},
   "outputs": [
    {
     "data": {
      "text/html": [
       "\n",
       "            <div>\n",
       "                <p><b>SparkSession - in-memory</b></p>\n",
       "                \n",
       "        <div>\n",
       "            <p><b>SparkContext</b></p>\n",
       "\n",
       "            <p><a href=\"http://LAPTOP-KUA0OM7G.mshome.net:4040\">Spark UI</a></p>\n",
       "\n",
       "            <dl>\n",
       "              <dt>Version</dt>\n",
       "                <dd><code>v3.5.3</code></dd>\n",
       "              <dt>Master</dt>\n",
       "                <dd><code>local[*]</code></dd>\n",
       "              <dt>AppName</dt>\n",
       "                <dd><code>spotify_data_analysis</code></dd>\n",
       "            </dl>\n",
       "        </div>\n",
       "        \n",
       "            </div>\n",
       "        "
      ],
      "text/plain": [
       "<pyspark.sql.session.SparkSession at 0x1fb60668580>"
      ]
     },
     "execution_count": 2,
     "metadata": {},
     "output_type": "execute_result"
    }
   ],
   "source": [
    "spark = SparkSession.builder \\\n",
    "                    .appName(\"spotify_data_analysis\") \\\n",
    "                    .getOrCreate()\n",
    "\n",
    "spark"
   ]
  },
  {
   "cell_type": "markdown",
   "id": "aa5aa20f-d7f8-462c-8ca3-a10ddf16d2dc",
   "metadata": {},
   "source": [
    "## Questions"
   ]
  },
  {
   "cell_type": "markdown",
   "id": "de39ba83-22d4-475c-a86b-457a0dd6a2a9",
   "metadata": {},
   "source": [
    "Basic Exploration\n",
    "Display the schema and find how many columns are present.\n",
    "\n",
    "Show the first 10 rows sorted by popularity.\n",
    "\n",
    "What are the distinct genres in the dataset?\n",
    "\n",
    "Which track has the highest danceability?\n",
    "\n",
    "🧼 Data Cleaning & Transformation\n",
    "Are there any null values in the dataset? List column-wise null counts.\n",
    "\n",
    "Create a new column duration_min by converting duration_ms to minutes.\n",
    "\n",
    "Cast the popularity column to IntegerType and filter tracks with popularity > 80.\n",
    "\n",
    "📊 Aggregations & Grouping\n",
    "What is the average loudness and energy per genre?\n",
    "\n",
    "Which artist has the most tracks in the dataset?\n",
    "\n",
    "What is the average duration of songs by each artist?\n",
    "\n",
    "🔗 Joins and Multi-file Work (if more datasets are added)\n",
    "Join with a mock dataset of top global artists to find their tracks and popularity.\n",
    "\n",
    "Find the top 5 artists by average track popularity using groupBy.\n",
    "\n",
    "🪟 Window Functions\n",
    "For each artist, assign a rank to their songs based on popularity.\n",
    "\n",
    "Calculate a rolling average of popularity for all tracks within the same genre.\n",
    "\n",
    "🧠 User-Defined Functions (UDFs)\n",
    "Create a UDF to classify songs as \"Hit\" if popularity > 75, else \"Normal\".\n",
    "\n",
    "Write a UDF that tags a song as \"Short\", \"Medium\", or \"Long\" based on duration.\n",
    "\n",
    "🧪 Filtering and Advanced Queries\n",
    "Find songs that are both explicit and have a popularity over 70.\n",
    "\n",
    "Find artists whose average track popularity is below 30 — label them \"Underrated\".\n",
    "\n",
    "🧠 PySpark SQL\n",
    "Register the DataFrame as a SQL temp view. Write a query to find:\n",
    "\n",
    "Top 5 longest songs in each genre.\n",
    "\n",
    "Using SQL, get track counts per genre and per artist, ordered by count descending."
   ]
  },
  {
   "cell_type": "code",
   "execution_count": 5,
   "id": "d8285248-d97a-4f0f-a56b-3e9e7bb0af3f",
   "metadata": {},
   "outputs": [
    {
     "name": "stdout",
     "output_type": "stream",
     "text": [
      "+--------------------+--------------------+--------------------+-----------+------------+----+------------+------------+------+----------------+--------+--------+-----------+-------+-------+----+---+----------+--------+\n",
      "|                  id|                name|             artists|duration_ms|release_date|year|acousticness|danceability|energy|instrumentalness|liveness|loudness|speechiness|  tempo|valence|mode|key|popularity|explicit|\n",
      "+--------------------+--------------------+--------------------+-----------+------------+----+------------+------------+------+----------------+--------+--------+-----------+-------+-------+----+---+----------+--------+\n",
      "|6KbQ3uYMLKb5jDxLF...|Singende Bataillo...| ['Carl Woitschach']|     158648|        1928|1928|       0.995|       0.708| 0.195|           0.563|   0.151| -12.428|     0.0506|118.469|  0.779|   1| 10|         0|       0|\n",
      "|6KuQTIu1KoTTkLXKr...|Fantasiestücke, O...|['Robert Schumann...|     282133|        1928|1928|       0.994|       0.379|0.0135|           0.901|  0.0763| -28.454|     0.0462| 83.972| 0.0767|   1|  8|         0|       0|\n",
      "|6L63VW0PibdM1HDSB...|Chapter 1.18 - Za...|['Seweryn Goszczy...|     104300|        1928|1928|       0.604|       0.749|  0.22|               0|   0.119| -19.924|      0.929|107.177|   0.88|   0|  5|         0|       0|\n",
      "|6M94FkXd15sOAOQYR...|Bebamos Juntos - ...|['Francisco Canaro']|     180760|     9/25/28|1928|       0.995|       0.781|  0.13|           0.887|   0.111| -14.734|     0.0926|108.003|   0.72|   0|  1|         0|       0|\n",
      "+--------------------+--------------------+--------------------+-----------+------------+----+------------+------------+------+----------------+--------+--------+-----------+-------+-------+----+---+----------+--------+\n",
      "only showing top 4 rows\n",
      "\n"
     ]
    }
   ],
   "source": [
    "spotify_df = spark.read.csv('datasets/spotify-data.csv', header = True)\n",
    "spotify_df.show(4)"
   ]
  },
  {
   "cell_type": "markdown",
   "id": "50d3f51b-8f57-4c0d-9c7d-2671c37f8062",
   "metadata": {},
   "source": [
    "### 1 ) Basic Exploration Display the schema and find how many columns are present."
   ]
  },
  {
   "cell_type": "code",
   "execution_count": 7,
   "id": "084d5637-675e-4532-a54a-d34c3d2932c6",
   "metadata": {},
   "outputs": [
    {
     "data": {
      "text/plain": [
       "StructType([StructField('id', StringType(), True), StructField('name', StringType(), True), StructField('artists', StringType(), True), StructField('duration_ms', StringType(), True), StructField('release_date', StringType(), True), StructField('year', StringType(), True), StructField('acousticness', StringType(), True), StructField('danceability', StringType(), True), StructField('energy', StringType(), True), StructField('instrumentalness', StringType(), True), StructField('liveness', StringType(), True), StructField('loudness', StringType(), True), StructField('speechiness', StringType(), True), StructField('tempo', StringType(), True), StructField('valence', StringType(), True), StructField('mode', StringType(), True), StructField('key', StringType(), True), StructField('popularity', StringType(), True), StructField('explicit', StringType(), True)])"
      ]
     },
     "execution_count": 7,
     "metadata": {},
     "output_type": "execute_result"
    }
   ],
   "source": [
    "spotify_df.schema"
   ]
  },
  {
   "cell_type": "code",
   "execution_count": 8,
   "id": "c18aa9e0-478e-425c-a943-e27d172c9031",
   "metadata": {},
   "outputs": [
    {
     "name": "stdout",
     "output_type": "stream",
     "text": [
      "root\n",
      " |-- id: string (nullable = true)\n",
      " |-- name: string (nullable = true)\n",
      " |-- artists: string (nullable = true)\n",
      " |-- duration_ms: string (nullable = true)\n",
      " |-- release_date: string (nullable = true)\n",
      " |-- year: string (nullable = true)\n",
      " |-- acousticness: string (nullable = true)\n",
      " |-- danceability: string (nullable = true)\n",
      " |-- energy: string (nullable = true)\n",
      " |-- instrumentalness: string (nullable = true)\n",
      " |-- liveness: string (nullable = true)\n",
      " |-- loudness: string (nullable = true)\n",
      " |-- speechiness: string (nullable = true)\n",
      " |-- tempo: string (nullable = true)\n",
      " |-- valence: string (nullable = true)\n",
      " |-- mode: string (nullable = true)\n",
      " |-- key: string (nullable = true)\n",
      " |-- popularity: string (nullable = true)\n",
      " |-- explicit: string (nullable = true)\n",
      "\n"
     ]
    }
   ],
   "source": [
    "spotify_df.printSchema()"
   ]
  },
  {
   "cell_type": "code",
   "execution_count": 9,
   "id": "514713f7-ddaf-4d14-97d0-b88f4b8da89e",
   "metadata": {},
   "outputs": [
    {
     "data": {
      "text/plain": [
       "['id',\n",
       " 'name',\n",
       " 'artists',\n",
       " 'duration_ms',\n",
       " 'release_date',\n",
       " 'year',\n",
       " 'acousticness',\n",
       " 'danceability',\n",
       " 'energy',\n",
       " 'instrumentalness',\n",
       " 'liveness',\n",
       " 'loudness',\n",
       " 'speechiness',\n",
       " 'tempo',\n",
       " 'valence',\n",
       " 'mode',\n",
       " 'key',\n",
       " 'popularity',\n",
       " 'explicit']"
      ]
     },
     "execution_count": 9,
     "metadata": {},
     "output_type": "execute_result"
    }
   ],
   "source": [
    "spotify_df.columns"
   ]
  },
  {
   "cell_type": "code",
   "execution_count": 10,
   "id": "f283f8f4-8682-4ec2-ac34-e4b35cefb6df",
   "metadata": {},
   "outputs": [
    {
     "data": {
      "text/plain": [
       "169909"
      ]
     },
     "execution_count": 10,
     "metadata": {},
     "output_type": "execute_result"
    }
   ],
   "source": [
    "spotify_df.count()"
   ]
  },
  {
   "cell_type": "code",
   "execution_count": 113,
   "id": "e1303a3f-c031-4255-bb21-11fb9cbb62ad",
   "metadata": {},
   "outputs": [
    {
     "data": {
      "text/plain": [
       "20"
      ]
     },
     "execution_count": 113,
     "metadata": {},
     "output_type": "execute_result"
    }
   ],
   "source": [
    "len(spotify_df.columns)"
   ]
  },
  {
   "cell_type": "markdown",
   "id": "acb91728-1b0b-4c62-97a5-f82fba2c1e7a",
   "metadata": {},
   "source": [
    "### 2 ) Show the first 10 rows sorted by popularity."
   ]
  },
  {
   "cell_type": "code",
   "execution_count": 12,
   "id": "04822ab3-2e01-44e9-b66d-4b9ec6bb7e47",
   "metadata": {},
   "outputs": [
    {
     "name": "stdout",
     "output_type": "stream",
     "text": [
      "+--------------------+--------------------+----------+\n",
      "|                  id|                name|popularity|\n",
      "+--------------------+--------------------+----------+\n",
      "|42OhQBFNIbMyxRGxy...|\"Not Tonight (fea...|    99.429|\n",
      "|7ytR5pFWmSjzHJIeQ...|ROCKSTAR (feat. R...|        99|\n",
      "|7zNOcAn34AVywtf2p...|South Pacific (19...|    97.724|\n",
      "|7eJMfftS33KTjuF7l...|death bed (coffee...|        97|\n",
      "|14RtX37onWzSyGDxr...|I Ain't Superstit...|    96.361|\n",
      "|39Yp9wwQiSRIDOvrV...|          THE SCOTTS|        96|\n",
      "|62aP9fBQKYKxi7PDX...|ily (i love you b...|        95|\n",
      "|0nbXyq5TXYPCO7pr3...|             The Box|        95|\n",
      "|4nK5YrxbMGZstTLbv...|          Supalonely|        95|\n",
      "|127QTOFJsJQp5LbJb...|        Toosie Slide|        95|\n",
      "+--------------------+--------------------+----------+\n",
      "only showing top 10 rows\n",
      "\n"
     ]
    }
   ],
   "source": [
    "spotify_df.select('id', 'name', 'popularity') \\\n",
    "        .sort(\"popularity\",ascending=False) \\\n",
    "        .show(10)"
   ]
  },
  {
   "cell_type": "code",
   "execution_count": 13,
   "id": "6f10b4ec-96f8-4cf2-88ec-f6e4564b67fe",
   "metadata": {},
   "outputs": [
    {
     "name": "stdout",
     "output_type": "stream",
     "text": [
      "+--------------------+--------------------+--------------------+--------------------+----------+--------------------+\n",
      "|                  id|                name|             artists|         duration_ms|popularity|                year|\n",
      "+--------------------+--------------------+--------------------+--------------------+----------+--------------------+\n",
      "|42OhQBFNIbMyxRGxy...|\"Not Tonight (fea...|      \"[\"\"Lil' Kim\"\"|    'Angie Martinez'|    99.429|           'Da Brat'|\n",
      "|7ytR5pFWmSjzHJIeQ...|ROCKSTAR (feat. R...|['DaBaby', 'Roddy...|              181733|        99|                2020|\n",
      "|7zNOcAn34AVywtf2p...|South Pacific (19...|\"['Richard Rodger...|        'Ezio Pinza'|    97.724|     'Jim Hawthorne'|\n",
      "|7eJMfftS33KTjuF7l...|death bed (coffee...|['Powfu', 'beabad...|              173333|        97|                2020|\n",
      "|14RtX37onWzSyGDxr...|I Ain't Superstit...|  \"[\"\"Howlin' Wolf\"\"|      'Eric Clapton'|    96.361|        'Bill Wyman'|\n",
      "|39Yp9wwQiSRIDOvrV...|          THE SCOTTS|['THE SCOTTS', 'T...|              165978|        96|                2020|\n",
      "|127QTOFJsJQp5LbJb...|        Toosie Slide|           ['Drake']|              247059|        95|                2020|\n",
      "|4nK5YrxbMGZstTLbv...|          Supalonely|['BENEE', 'Gus Da...|              223480|        95|                2019|\n",
      "|0nbXyq5TXYPCO7pr3...|             The Box|     ['Roddy Ricch']|              196653|        95|                2019|\n",
      "|62aP9fBQKYKxi7PDX...|ily (i love you b...|['Surf Mesa', 'Em...|              176547|        95|                2019|\n",
      "|5RqR4ZCCKJDcBLIn4...|          Party Girl|  ['StaySolidRocky']|              147800|        94|                2020|\n",
      "|4NhDYoQTYCdWHTvlb...|               GOOBA|         ['6ix9ine']|              132303|        94|                2020|\n",
      "|24ySl2hOPGCDcxBxF...|Rain On Me (with ...|['Lady Gaga', 'Ar...|              182200|        94|                2020|\n",
      "|4HBZA5flZLE435QTz...|Stuck with U (wit...|['Ariana Grande',...|              228482|        94|                2020|\n",
      "|2XU0oxnq2qxCpomAA...|        Dance Monkey|     ['Tones And I']|              209438|        94|                2019|\n",
      "|21RxocdHYXogqYWST...|\"Verdi : Un giorn...| caro Conte!\"\" [B...|            Marchesa|    93.775|         Cavaliere]\"|\n",
      "|5NbzzXzwd7ZgH8SSz...|\"Bach: Herz und M...| Meines Herzen Lu...|\"['Johann Sebasti...|    93.649| 'Sir David Willc...|\n",
      "|1I4bBso2gHngQA9qP...|\"Verdi : Nabucco ...| che d'Assiria il...|           Abigaille|    93.193|           Abdallo]\"|\n",
      "|3Dv1eDb0MEgF93GpL...|              Say So|        ['Doja Cat']|              237893|        93|                2019|\n",
      "|1Cv1YLb4q0RzL6pyb...|         Sunday Best|        ['Surfaces']|              158571|        93|                2019|\n",
      "+--------------------+--------------------+--------------------+--------------------+----------+--------------------+\n",
      "only showing top 20 rows\n",
      "\n"
     ]
    }
   ],
   "source": [
    "spotify_df.select('id', 'name', 'artists','duration_ms','popularity','year')\\\n",
    "            .orderBy(['popularity', 'year'],ascending = [False, False])\\\n",
    "            .show()"
   ]
  },
  {
   "cell_type": "markdown",
   "id": "83b2837d-d136-4f2d-bef7-c193946ca723",
   "metadata": {},
   "source": [
    "### 3) What are the distinct year in the dataset?"
   ]
  },
  {
   "cell_type": "code",
   "execution_count": 15,
   "id": "6a246419-6da5-4f3a-9625-9d567ab28adb",
   "metadata": {},
   "outputs": [
    {
     "name": "stdout",
     "output_type": "stream",
     "text": [
      "+-----------------+\n",
      "|             year|\n",
      "+-----------------+\n",
      "|           164466|\n",
      "|           1/1/53|\n",
      "| 'Georges Prêtre'|\n",
      "|           1/1/08|\n",
      "|            28600|\n",
      "|   'Justin Bohon'|\n",
      "|             1953|\n",
      "|           7/1/53|\n",
      "|          Laura]\"|\n",
      "|           232613|\n",
      "|           1/1/56|\n",
      "|             1957|\n",
      "|             1987|\n",
      "|       Raimondo)\"|\n",
      "|           338907|\n",
      "|             1956|\n",
      "|           160200|\n",
      "|       Marchesa]\"|\n",
      "|             1936|\n",
      "|             2016|\n",
      "+-----------------+\n",
      "only showing top 20 rows\n",
      "\n"
     ]
    }
   ],
   "source": [
    "spotify_df.select('year')\\\n",
    "            .distinct()\\\n",
    "            .show()"
   ]
  },
  {
   "cell_type": "markdown",
   "id": "d0b8732d-edb8-48ad-b90d-a97278dc516d",
   "metadata": {},
   "source": [
    "### 4) Which track has the highest danceability?"
   ]
  },
  {
   "cell_type": "code",
   "execution_count": 17,
   "id": "d8c4accc-93b8-40fa-b78b-b50d55b042c4",
   "metadata": {},
   "outputs": [
    {
     "name": "stdout",
     "output_type": "stream",
     "text": [
      "+--------------------+\n",
      "|   max(danceability)|\n",
      "+--------------------+\n",
      "|['Wolfgang Amadeu...|\n",
      "+--------------------+\n",
      "\n"
     ]
    }
   ],
   "source": [
    "spotify_df.select(max('danceability')).show()"
   ]
  },
  {
   "cell_type": "code",
   "execution_count": 18,
   "id": "b50efff2-d298-4023-b407-bd8dde00760c",
   "metadata": {},
   "outputs": [
    {
     "name": "stdout",
     "output_type": "stream",
     "text": [
      "+--------------------+\n",
      "|   min(danceability)|\n",
      "+--------------------+\n",
      "| \"\"Orchestra Sinf...|\n",
      "+--------------------+\n",
      "\n"
     ]
    }
   ],
   "source": [
    "spotify_df.select(min('danceability')).show()"
   ]
  },
  {
   "cell_type": "code",
   "execution_count": 21,
   "id": "171c532b-61a3-471c-88ed-f0988dab979a",
   "metadata": {},
   "outputs": [],
   "source": [
    "# spotify_df = spotify_df.withColumn(\"danceability\",col(\"danceability\").cast(\"double\"))"
   ]
  },
  {
   "cell_type": "code",
   "execution_count": 22,
   "id": "5fcca127-dff9-4061-8cea-96d30d6af2e6",
   "metadata": {},
   "outputs": [
    {
     "name": "stdout",
     "output_type": "stream",
     "text": [
      "root\n",
      " |-- id: string (nullable = true)\n",
      " |-- name: string (nullable = true)\n",
      " |-- artists: string (nullable = true)\n",
      " |-- duration_ms: double (nullable = true)\n",
      " |-- release_date: string (nullable = true)\n",
      " |-- year: double (nullable = true)\n",
      " |-- acousticness: double (nullable = true)\n",
      " |-- danceability: double (nullable = true)\n",
      " |-- energy: double (nullable = true)\n",
      " |-- instrumentalness: double (nullable = true)\n",
      " |-- liveness: double (nullable = true)\n",
      " |-- loudness: double (nullable = true)\n",
      " |-- speechiness: double (nullable = true)\n",
      " |-- tempo: double (nullable = true)\n",
      " |-- valence: double (nullable = true)\n",
      " |-- mode: double (nullable = true)\n",
      " |-- key: double (nullable = true)\n",
      " |-- popularity: double (nullable = true)\n",
      " |-- explicit: double (nullable = true)\n",
      "\n"
     ]
    }
   ],
   "source": [
    "# col_list = ['acousticness', 'danceability', 'energy', 'popularity']\n",
    "# for column in col_list:\n",
    "#     spotify_df = spotify_df.withColumn(column, col(column).cast(\"double\"))\n",
    "\n",
    "# spotify_df.printSchema()\n",
    "\n",
    "\n",
    "from pyspark.sql.functions import col\n",
    "\n",
    "cols_to_cast = {\n",
    "    \"duration_ms\": \"double\",\n",
    "    \"year\": \"double\",\n",
    "    \"acousticness\": \"double\",\n",
    "    \"danceability\": \"double\",\n",
    "    \"energy\": \"double\",\n",
    "    \"instrumentalness\": \"double\",\n",
    "    \"liveness\": \"double\",\n",
    "    \"loudness\": \"double\",\n",
    "    \"speechiness\": \"double\",\n",
    "    \"tempo\": \"double\",\n",
    "    \"valence\": \"double\",\n",
    "    \"mode\": \"double\",\n",
    "    \"key\": \"double\",\n",
    "    \"popularity\": \"double\",\n",
    "    \"explicit\": \"double\"\n",
    "}\n",
    "\n",
    "for column, dtype in cols_to_cast.items():\n",
    "    spotify_df = spotify_df.withColumn(column, col(column).cast(dtype))\n",
    "spotify_df.printSchema()"
   ]
  },
  {
   "cell_type": "code",
   "execution_count": 23,
   "id": "d8ad05ec-5e9e-48ca-8b17-a1053fa24dc0",
   "metadata": {},
   "outputs": [
    {
     "name": "stdout",
     "output_type": "stream",
     "text": [
      "+-----------------+\n",
      "|max(danceability)|\n",
      "+-----------------+\n",
      "|         668333.0|\n",
      "+-----------------+\n",
      "\n"
     ]
    }
   ],
   "source": [
    "spotify_df.select(max('danceability')).show()"
   ]
  },
  {
   "cell_type": "markdown",
   "id": "4f9aa284-bbe0-454b-a22f-d338bb6e3f1a",
   "metadata": {},
   "source": [
    "#### EG"
   ]
  },
  {
   "cell_type": "code",
   "execution_count": 25,
   "id": "3cf6b966-3c63-4369-ab11-25b9c22226ef",
   "metadata": {},
   "outputs": [
    {
     "name": "stdout",
     "output_type": "stream",
     "text": [
      "+------------+\n",
      "|       value|\n",
      "+------------+\n",
      "|        0.86|\n",
      "|not_a_number|\n",
      "|        1.23|\n",
      "+------------+\n",
      "\n"
     ]
    }
   ],
   "source": [
    "from pyspark.sql import Row\n",
    "data = [Row(value=\"0.86\"), Row(value=\"not_a_number\"), Row(value=\"1.23\")]\n",
    "\n",
    "df = spark.createDataFrame(data)\n",
    "df.show()\n"
   ]
  },
  {
   "cell_type": "code",
   "execution_count": 26,
   "id": "d3640fa8-cf37-47b6-a74b-7f97c6f0f25e",
   "metadata": {},
   "outputs": [
    {
     "name": "stdout",
     "output_type": "stream",
     "text": [
      "+------------+------------+\n",
      "|       value|value_double|\n",
      "+------------+------------+\n",
      "|        0.86|        0.86|\n",
      "|not_a_number|        NULL|\n",
      "|        1.23|        1.23|\n",
      "+------------+------------+\n",
      "\n"
     ]
    }
   ],
   "source": [
    "df_casted = df.withColumn(\"value_double\", col(\"value\").cast(\"double\"))\n",
    "\n",
    "df_casted.show()"
   ]
  },
  {
   "cell_type": "code",
   "execution_count": 27,
   "id": "3b4aa6d2-d1ce-406e-a929-80b6dac92f66",
   "metadata": {},
   "outputs": [],
   "source": [
    "# ## this problem can directly solve by \n",
    "# spotify_df = spark.read.csv(\"datasets/spotify-data.csv\",header = True, inferSchema=True)\n",
    "# spotify_df.show(4)\n",
    "# spotify_df.printSchema()"
   ]
  },
  {
   "cell_type": "code",
   "execution_count": null,
   "id": "d26993f8-b9d8-4832-90ce-e1de53413152",
   "metadata": {},
   "outputs": [],
   "source": []
  },
  {
   "cell_type": "markdown",
   "id": "9dd60a6e-d468-4258-8cf2-a77d12daa8a0",
   "metadata": {},
   "source": [
    "## Data Cleaning & Transformation "
   ]
  },
  {
   "cell_type": "markdown",
   "id": "e8e88cc2-1dc3-4caf-9cad-f42ad2a1fa7b",
   "metadata": {},
   "source": [
    "### 5) Are there any null values in the dataset? List column-wise null counts."
   ]
  },
  {
   "cell_type": "code",
   "execution_count": 30,
   "id": "f9bdad25-0dd4-493a-8c6a-5171a773e773",
   "metadata": {},
   "outputs": [
    {
     "data": {
      "text/plain": [
       "138"
      ]
     },
     "execution_count": 30,
     "metadata": {},
     "output_type": "execute_result"
    }
   ],
   "source": [
    "a = spotify_df.filter(col('danceability').isNull()).count()\n",
    "a"
   ]
  },
  {
   "cell_type": "code",
   "execution_count": 31,
   "id": "410452f7-d93c-46b8-8462-fa9a8786ff41",
   "metadata": {},
   "outputs": [
    {
     "name": "stdout",
     "output_type": "stream",
     "text": [
      "id--> 0\n",
      "name--> 0\n",
      "artists--> 0\n",
      "duration_ms--> 1447\n",
      "release_date--> 0\n",
      "year--> 692\n",
      "acousticness--> 285\n",
      "danceability--> 138\n",
      "energy--> 70\n",
      "instrumentalness--> 44\n",
      "liveness--> 23\n",
      "loudness--> 8\n",
      "speechiness--> 8\n",
      "tempo--> 4\n",
      "valence--> 2\n",
      "mode--> 2\n",
      "key--> 2\n",
      "popularity--> 1\n",
      "explicit--> 2\n"
     ]
    }
   ],
   "source": [
    "for column in spotify_df.columns:\n",
    "    null_cnt = spotify_df.filter(col(column).isNull()).count()\n",
    "    print(f'{column}--> {null_cnt}')"
   ]
  },
  {
   "cell_type": "markdown",
   "id": "054598ad-5b18-4b21-8522-e85f0f7d62f2",
   "metadata": {},
   "source": [
    "### 6 )Create a new column duration_min by converting duration_ms to minutes."
   ]
  },
  {
   "cell_type": "code",
   "execution_count": 33,
   "id": "4cd0b21e-9774-4b85-8c7c-fe0d2bdcd6bf",
   "metadata": {},
   "outputs": [
    {
     "name": "stdout",
     "output_type": "stream",
     "text": [
      "+--------------------+--------------------+--------------------+-----------+------------+------+------------+------------+-------+----------------+--------+--------+-----------+-------+-------+----+----+----------+--------+------------+\n",
      "|                  id|                name|             artists|duration_ms|release_date|  year|acousticness|danceability| energy|instrumentalness|liveness|loudness|speechiness|  tempo|valence|mode| key|popularity|explicit|duration_min|\n",
      "+--------------------+--------------------+--------------------+-----------+------------+------+------------+------------+-------+----------------+--------+--------+-----------+-------+-------+----+----+----------+--------+------------+\n",
      "|6KbQ3uYMLKb5jDxLF...|Singende Bataillo...| ['Carl Woitschach']|   158648.0|        1928|1928.0|       0.995|       0.708|  0.195|           0.563|   0.151| -12.428|     0.0506|118.469|  0.779| 1.0|10.0|       0.0|     0.0|       44.07|\n",
      "|6KuQTIu1KoTTkLXKr...|Fantasiestücke, O...|['Robert Schumann...|   282133.0|        1928|1928.0|       0.994|       0.379| 0.0135|           0.901|  0.0763| -28.454|     0.0462| 83.972| 0.0767| 1.0| 8.0|       0.0|     0.0|       78.37|\n",
      "|6L63VW0PibdM1HDSB...|Chapter 1.18 - Za...|['Seweryn Goszczy...|   104300.0|        1928|1928.0|       0.604|       0.749|   0.22|             0.0|   0.119| -19.924|      0.929|107.177|   0.88| 0.0| 5.0|       0.0|     0.0|       28.97|\n",
      "|6M94FkXd15sOAOQYR...|Bebamos Juntos - ...|['Francisco Canaro']|   180760.0|     9/25/28|1928.0|       0.995|       0.781|   0.13|           0.887|   0.111| -14.734|     0.0926|108.003|   0.72| 0.0| 1.0|       0.0|     0.0|       50.21|\n",
      "|6N6tiFZ9vLTSOIxkj...|Polonaise-Fantais...|['Frédéric Chopin...|   687733.0|        1928|1928.0|        0.99|        0.21|  0.204|           0.908|   0.098| -16.829|     0.0424| 62.149| 0.0693| 1.0|11.0|       1.0|     0.0|      191.04|\n",
      "|6NxAf7M8DNHOBTmEd...|Scherzo a capricc...|['Felix Mendelsso...|   352600.0|        1928|1928.0|       0.995|       0.424|   0.12|           0.911|  0.0915| -19.242|     0.0593| 63.521|  0.266| 0.0| 6.0|       0.0|     0.0|       97.94|\n",
      "|6O0puPuyrxPjDTHDU...|Valse oubliée No....|['Franz Liszt', '...|   136627.0|        1928|1928.0|       0.956|       0.444|  0.197|           0.435|  0.0744| -17.226|       0.04| 80.495|  0.305| 1.0|11.0|       0.0|     0.0|       37.95|\n",
      "|6OJjveoYwJdIt76y0...| Per aspera ad astra| ['Carl Woitschach']|   153967.0|        1928|1928.0|       0.988|       0.555|  0.421|           0.836|   0.105|  -9.878|     0.0474| 123.31|  0.857| 1.0| 1.0|       0.0|     0.0|       42.77|\n",
      "|6OaJ8Bh7lsBeYoBmw...|Moneda Corriente ...|['Francisco Canar...|   162493.0|     10/3/28|1928.0|       0.995|       0.683|  0.207|           0.206|   0.337|  -9.801|      0.127|119.833|  0.493| 0.0| 9.0|       0.0|     0.0|       45.14|\n",
      "|6PrZexNb16cabXR8Q...|Chapter 1.3 - Zam...|['Seweryn Goszczy...|   111600.0|        1928|1928.0|       0.846|       0.674|  0.205|             0.0|    0.17| -20.119|      0.954| 81.249|  0.759| 1.0| 9.0|       0.0|     0.0|        31.0|\n",
      "|6QBInZBkQNIQYU9gG...|Piano Sonata No. ...|['Sergei Rachmani...|   590293.0|        1928|1928.0|       0.994|       0.376| 0.0719|           0.883|   0.196| -21.849|     0.0352| 141.39| 0.0393| 0.0|10.0|       0.0|     0.0|      163.97|\n",
      "|6QIONtzbQCbnmWNwn...|Piano Sonata No. ...|['Frédéric Chopin...|    85133.0|        1928|1928.0|       0.989|        0.17| 0.0823|           0.911|  0.0962| -30.107|     0.0317| 85.989|  0.346| 0.0|10.0|       1.0|     0.0|       23.65|\n",
      "|6QgdUySTRGVkNo3Kw...|Piano Sonata in E...|['Samuel Barber',...|   338333.0|        1928|1928.0|        0.99|       0.359| 0.0435|           0.899|   0.109| -20.858|     0.0424| 96.645|  0.042| 1.0| 7.0|       0.0|     0.0|       93.98|\n",
      "|6RvSNoCPBZeTR2LyG...|Nachtstücke, Op. ...|['Robert Schumann...|   167333.0|        1928|1928.0|       0.992|       0.311| 0.0107|           0.883|  0.0954| -35.648|     0.0556|  78.98|  0.216| 1.0| 5.0|       0.0|     0.0|       46.48|\n",
      "|6Rwn56jcC0TdGQzbR...|Symphony No. 5 in...|['Ludwig van Beet...|   276563.0|      1/1/28|1928.0|       0.977|       0.335|  0.105|            0.84|   0.231| -16.049|     0.0716| 80.204|  0.406| 0.0| 5.0|       0.0|     0.0|       76.82|\n",
      "|6Sdpmree8xpGWaedA...|A Shropshire Lad:...|['George Butterwo...|   184840.0|        1928|1928.0|       0.991|       0.319|0.00593|         6.35E-5|  0.0691| -25.789|      0.051| 79.831|  0.169| 0.0| 7.0|       0.0|     0.0|       51.34|\n",
      "|6T0mZB7p3qzOifdXZ...|Sonata No. 3, Op....|['Alexander Scria...|   326067.0|        1928|1928.0|       0.996|       0.319|  0.155|           0.917|   0.126| -18.728|      0.036| 66.947| 0.0488| 1.0| 4.0|       0.0|     0.0|       90.57|\n",
      "|6TFuAErGpJ9FpxQQ1...|Invocación al Tan...|['Francisco Canar...|   167107.0|     9/16/28|1928.0|       0.994|       0.787|  0.156|           0.659|    0.11| -14.056|      0.157|117.167|  0.849| 0.0| 4.0|       0.0|     0.0|       46.42|\n",
      "|6UUfiNT82MWBNnmsE...| Where the Bee Sucks|['Thomas Arne', '...|   122533.0|        1928|1928.0|       0.993|       0.569|   0.15|          0.0015|   0.106| -15.238|     0.0474|  76.93|  0.596| 1.0| 5.0|       0.0|     0.0|       34.04|\n",
      "|6Ukl7n0q3Cjd0Og8u...|Tendrás Que Llora...|['Francisco Canaro']|   173707.0|     9/17/28|1928.0|       0.992|       0.763|  0.132|          0.0693|   0.112| -13.002|     0.0886|111.679|  0.832| 1.0| 4.0|       0.0|     0.0|       48.25|\n",
      "+--------------------+--------------------+--------------------+-----------+------------+------+------------+------------+-------+----------------+--------+--------+-----------+-------+-------+----+----+----------+--------+------------+\n",
      "only showing top 20 rows\n",
      "\n"
     ]
    }
   ],
   "source": [
    "spotify_df = spotify_df.withColumn('duration_min',round(col('duration_ms')/3600,2))\n",
    "spotify_df.show()"
   ]
  },
  {
   "cell_type": "markdown",
   "id": "27ce7549-f5e3-44b0-b363-3683d8e42c94",
   "metadata": {},
   "source": [
    "### 7 ) Cast the popularity column to IntegerType and filter tracks with popularity > 80."
   ]
  },
  {
   "cell_type": "code",
   "execution_count": 66,
   "id": "f5253163-fd49-45c0-a180-d2dc083fad40",
   "metadata": {},
   "outputs": [
    {
     "name": "stdout",
     "output_type": "stream",
     "text": [
      "+--------------------+--------------------+--------------------+-----------+------------+------+------------+------------+-------+----------------+--------+--------+-----------+-------+-------+----+----+----------+--------+------------+\n",
      "|                  id|                name|             artists|duration_ms|release_date|  year|acousticness|danceability| energy|instrumentalness|liveness|loudness|speechiness|  tempo|valence|mode| key|popularity|explicit|duration_min|\n",
      "+--------------------+--------------------+--------------------+-----------+------------+------+------------+------------+-------+----------------+--------+--------+-----------+-------+-------+----+----+----------+--------+------------+\n",
      "|6KbQ3uYMLKb5jDxLF...|Singende Bataillo...| ['Carl Woitschach']|   158648.0|        1928|1928.0|       0.995|       0.708|  0.195|           0.563|   0.151| -12.428|     0.0506|118.469|  0.779| 1.0|10.0|         0|     0.0|       44.07|\n",
      "|6KuQTIu1KoTTkLXKr...|Fantasiestücke, O...|['Robert Schumann...|   282133.0|        1928|1928.0|       0.994|       0.379| 0.0135|           0.901|  0.0763| -28.454|     0.0462| 83.972| 0.0767| 1.0| 8.0|         0|     0.0|       78.37|\n",
      "|6L63VW0PibdM1HDSB...|Chapter 1.18 - Za...|['Seweryn Goszczy...|   104300.0|        1928|1928.0|       0.604|       0.749|   0.22|             0.0|   0.119| -19.924|      0.929|107.177|   0.88| 0.0| 5.0|         0|     0.0|       28.97|\n",
      "|6M94FkXd15sOAOQYR...|Bebamos Juntos - ...|['Francisco Canaro']|   180760.0|     9/25/28|1928.0|       0.995|       0.781|   0.13|           0.887|   0.111| -14.734|     0.0926|108.003|   0.72| 0.0| 1.0|         0|     0.0|       50.21|\n",
      "|6N6tiFZ9vLTSOIxkj...|Polonaise-Fantais...|['Frédéric Chopin...|   687733.0|        1928|1928.0|        0.99|        0.21|  0.204|           0.908|   0.098| -16.829|     0.0424| 62.149| 0.0693| 1.0|11.0|         1|     0.0|      191.04|\n",
      "|6NxAf7M8DNHOBTmEd...|Scherzo a capricc...|['Felix Mendelsso...|   352600.0|        1928|1928.0|       0.995|       0.424|   0.12|           0.911|  0.0915| -19.242|     0.0593| 63.521|  0.266| 0.0| 6.0|         0|     0.0|       97.94|\n",
      "|6O0puPuyrxPjDTHDU...|Valse oubliée No....|['Franz Liszt', '...|   136627.0|        1928|1928.0|       0.956|       0.444|  0.197|           0.435|  0.0744| -17.226|       0.04| 80.495|  0.305| 1.0|11.0|         0|     0.0|       37.95|\n",
      "|6OJjveoYwJdIt76y0...| Per aspera ad astra| ['Carl Woitschach']|   153967.0|        1928|1928.0|       0.988|       0.555|  0.421|           0.836|   0.105|  -9.878|     0.0474| 123.31|  0.857| 1.0| 1.0|         0|     0.0|       42.77|\n",
      "|6OaJ8Bh7lsBeYoBmw...|Moneda Corriente ...|['Francisco Canar...|   162493.0|     10/3/28|1928.0|       0.995|       0.683|  0.207|           0.206|   0.337|  -9.801|      0.127|119.833|  0.493| 0.0| 9.0|         0|     0.0|       45.14|\n",
      "|6PrZexNb16cabXR8Q...|Chapter 1.3 - Zam...|['Seweryn Goszczy...|   111600.0|        1928|1928.0|       0.846|       0.674|  0.205|             0.0|    0.17| -20.119|      0.954| 81.249|  0.759| 1.0| 9.0|         0|     0.0|        31.0|\n",
      "|6QBInZBkQNIQYU9gG...|Piano Sonata No. ...|['Sergei Rachmani...|   590293.0|        1928|1928.0|       0.994|       0.376| 0.0719|           0.883|   0.196| -21.849|     0.0352| 141.39| 0.0393| 0.0|10.0|         0|     0.0|      163.97|\n",
      "|6QIONtzbQCbnmWNwn...|Piano Sonata No. ...|['Frédéric Chopin...|    85133.0|        1928|1928.0|       0.989|        0.17| 0.0823|           0.911|  0.0962| -30.107|     0.0317| 85.989|  0.346| 0.0|10.0|         1|     0.0|       23.65|\n",
      "|6QgdUySTRGVkNo3Kw...|Piano Sonata in E...|['Samuel Barber',...|   338333.0|        1928|1928.0|        0.99|       0.359| 0.0435|           0.899|   0.109| -20.858|     0.0424| 96.645|  0.042| 1.0| 7.0|         0|     0.0|       93.98|\n",
      "|6RvSNoCPBZeTR2LyG...|Nachtstücke, Op. ...|['Robert Schumann...|   167333.0|        1928|1928.0|       0.992|       0.311| 0.0107|           0.883|  0.0954| -35.648|     0.0556|  78.98|  0.216| 1.0| 5.0|         0|     0.0|       46.48|\n",
      "|6Rwn56jcC0TdGQzbR...|Symphony No. 5 in...|['Ludwig van Beet...|   276563.0|      1/1/28|1928.0|       0.977|       0.335|  0.105|            0.84|   0.231| -16.049|     0.0716| 80.204|  0.406| 0.0| 5.0|         0|     0.0|       76.82|\n",
      "|6Sdpmree8xpGWaedA...|A Shropshire Lad:...|['George Butterwo...|   184840.0|        1928|1928.0|       0.991|       0.319|0.00593|         6.35E-5|  0.0691| -25.789|      0.051| 79.831|  0.169| 0.0| 7.0|         0|     0.0|       51.34|\n",
      "|6T0mZB7p3qzOifdXZ...|Sonata No. 3, Op....|['Alexander Scria...|   326067.0|        1928|1928.0|       0.996|       0.319|  0.155|           0.917|   0.126| -18.728|      0.036| 66.947| 0.0488| 1.0| 4.0|         0|     0.0|       90.57|\n",
      "|6TFuAErGpJ9FpxQQ1...|Invocación al Tan...|['Francisco Canar...|   167107.0|     9/16/28|1928.0|       0.994|       0.787|  0.156|           0.659|    0.11| -14.056|      0.157|117.167|  0.849| 0.0| 4.0|         0|     0.0|       46.42|\n",
      "|6UUfiNT82MWBNnmsE...| Where the Bee Sucks|['Thomas Arne', '...|   122533.0|        1928|1928.0|       0.993|       0.569|   0.15|          0.0015|   0.106| -15.238|     0.0474|  76.93|  0.596| 1.0| 5.0|         0|     0.0|       34.04|\n",
      "|6Ukl7n0q3Cjd0Og8u...|Tendrás Que Llora...|['Francisco Canaro']|   173707.0|     9/17/28|1928.0|       0.992|       0.763|  0.132|          0.0693|   0.112| -13.002|     0.0886|111.679|  0.832| 1.0| 4.0|         0|     0.0|       48.25|\n",
      "+--------------------+--------------------+--------------------+-----------+------------+------+------------+------------+-------+----------------+--------+--------+-----------+-------+-------+----+----+----------+--------+------------+\n",
      "only showing top 20 rows\n",
      "\n"
     ]
    }
   ],
   "source": [
    "spotify_df = spotify_df.withColumn('popularity', col('popularity').cast(IntegerType())) \n",
    "spotify_df.show()"
   ]
  },
  {
   "cell_type": "code",
   "execution_count": 68,
   "id": "b8eb62fe-2ee1-4afc-9c31-36f986af4507",
   "metadata": {},
   "outputs": [
    {
     "name": "stdout",
     "output_type": "stream",
     "text": [
      "root\n",
      " |-- id: string (nullable = true)\n",
      " |-- name: string (nullable = true)\n",
      " |-- artists: string (nullable = true)\n",
      " |-- duration_ms: double (nullable = true)\n",
      " |-- release_date: string (nullable = true)\n",
      " |-- year: double (nullable = true)\n",
      " |-- acousticness: double (nullable = true)\n",
      " |-- danceability: double (nullable = true)\n",
      " |-- energy: double (nullable = true)\n",
      " |-- instrumentalness: double (nullable = true)\n",
      " |-- liveness: double (nullable = true)\n",
      " |-- loudness: double (nullable = true)\n",
      " |-- speechiness: double (nullable = true)\n",
      " |-- tempo: double (nullable = true)\n",
      " |-- valence: double (nullable = true)\n",
      " |-- mode: double (nullable = true)\n",
      " |-- key: double (nullable = true)\n",
      " |-- popularity: integer (nullable = true)\n",
      " |-- explicit: double (nullable = true)\n",
      " |-- duration_min: double (nullable = true)\n",
      "\n"
     ]
    }
   ],
   "source": [
    "spotify_df.printSchema()"
   ]
  },
  {
   "cell_type": "code",
   "execution_count": 70,
   "id": "9f6c3071-e9ca-43b9-a515-2d5a776d9966",
   "metadata": {},
   "outputs": [
    {
     "name": "stdout",
     "output_type": "stream",
     "text": [
      "+---------------+\n",
      "|max(popularity)|\n",
      "+---------------+\n",
      "|         538760|\n",
      "+---------------+\n",
      "\n"
     ]
    }
   ],
   "source": [
    "spotify_df.select(max('popularity')).show()"
   ]
  },
  {
   "cell_type": "code",
   "execution_count": 72,
   "id": "777f85f6-e82a-4c44-a116-c91ae143dc1e",
   "metadata": {},
   "outputs": [
    {
     "name": "stdout",
     "output_type": "stream",
     "text": [
      "+---------------+\n",
      "|min(popularity)|\n",
      "+---------------+\n",
      "|            -20|\n",
      "+---------------+\n",
      "\n"
     ]
    }
   ],
   "source": [
    "spotify_df.select(min('popularity')).show()"
   ]
  },
  {
   "cell_type": "code",
   "execution_count": 78,
   "id": "b674caf1-f666-4d28-8509-ba37e80e3e9f",
   "metadata": {},
   "outputs": [
    {
     "data": {
      "text/plain": [
       "518"
      ]
     },
     "execution_count": 78,
     "metadata": {},
     "output_type": "execute_result"
    }
   ],
   "source": [
    "spotify_df.filter(col(\"popularity\")>80).count()"
   ]
  },
  {
   "cell_type": "markdown",
   "id": "6a7a1df8-c03e-400c-866a-66be8e06ae54",
   "metadata": {},
   "source": [
    "## 📊 Aggregations & Grouping "
   ]
  },
  {
   "cell_type": "markdown",
   "id": "bd7c0b34-4806-4fbb-97f0-ad42ffd02908",
   "metadata": {},
   "source": [
    "### 9 )What is the average loudness and energy per genre?"
   ]
  },
  {
   "cell_type": "code",
   "execution_count": 86,
   "id": "f6d8c2fc-7e26-4d78-aafd-5f3907671511",
   "metadata": {},
   "outputs": [
    {
     "name": "stdout",
     "output_type": "stream",
     "text": [
      "+-----------------+\n",
      "|    avg(loudness)|\n",
      "+-----------------+\n",
      "|3.800375127691626|\n",
      "+-----------------+\n",
      "\n"
     ]
    }
   ],
   "source": [
    "spotify_df.select(avg(\"loudness\")).show()"
   ]
  },
  {
   "cell_type": "code",
   "execution_count": 90,
   "id": "4b9cf9f5-1f2b-4082-9a96-3f08169a301d",
   "metadata": {},
   "outputs": [
    {
     "name": "stdout",
     "output_type": "stream",
     "text": [
      "+-----------------+\n",
      "|      avg(energy)|\n",
      "+-----------------+\n",
      "|70.88351548936592|\n",
      "+-----------------+\n",
      "\n"
     ]
    }
   ],
   "source": [
    "spotify_df.select(avg(\"energy\")).show()"
   ]
  },
  {
   "cell_type": "code",
   "execution_count": 102,
   "id": "853c1215-5d78-45dd-a5cc-24cd874799e3",
   "metadata": {},
   "outputs": [
    {
     "name": "stdout",
     "output_type": "stream",
     "text": [
      "+--------+-----------------+------------------+\n",
      "|    year|     avg_loudness|        avg_energy|\n",
      "+--------+-----------------+------------------+\n",
      "|    NULL|3733.574104137426|19221.435661897107|\n",
      "|200427.0|            0.985|             0.927|\n",
      "| 98240.0|             0.96|             0.865|\n",
      "|169907.0|            0.938|             0.858|\n",
      "|415747.0|            0.924|             0.995|\n",
      "|653800.0|              0.9|             0.987|\n",
      "|264853.0|            0.896|             0.886|\n",
      "|339733.0|            0.887|             0.992|\n",
      "|461427.0|             0.88|             0.887|\n",
      "|209600.0|            0.864|             0.995|\n",
      "|214667.0|            0.837|            0.0252|\n",
      "|201400.0|            0.831|             0.983|\n",
      "|671733.0|            0.826|              0.96|\n",
      "|145253.0|            0.796|             0.984|\n",
      "|184000.0|            0.791|             0.988|\n",
      "|214840.0|            0.779|             0.323|\n",
      "|277960.0|            0.774|             0.875|\n",
      "|114533.0|            0.759|             0.933|\n",
      "|237333.0|            0.757|             0.958|\n",
      "|693933.0|            0.683|             0.887|\n",
      "+--------+-----------------+------------------+\n",
      "only showing top 20 rows\n",
      "\n"
     ]
    }
   ],
   "source": [
    "spotify_df.groupby('year')\\\n",
    "    .agg(avg(\"loudness\").alias('avg_loudness'),\\\n",
    "         avg('energy').alias('avg_energy')\n",
    "    )\\\n",
    "    .orderBy(['avg_loudness'], ascending = [False])\\\n",
    "    .show()"
   ]
  },
  {
   "cell_type": "code",
   "execution_count": 110,
   "id": "80c3e23d-a667-4f1a-9e53-b620b0daaf1f",
   "metadata": {},
   "outputs": [
    {
     "name": "stdout",
     "output_type": "stream",
     "text": [
      "+--------------------+--------------------+--------------------+-----------+-------------------+--------+------------+------------+------+----------------+--------+--------+-----------+-------+-------+-----+------+----------+--------+------------+\n",
      "|                  id|                name|             artists|duration_ms|       release_date|    year|acousticness|danceability|energy|instrumentalness|liveness|loudness|speechiness|  tempo|valence| mode|   key|popularity|explicit|duration_min|\n",
      "+--------------------+--------------------+--------------------+-----------+-------------------+--------+------------+------------+------+----------------+--------+--------+-----------+-------+-------+-----+------+----------+--------+------------+\n",
      "|1syEt258kzY0ApsMF...|\"Madama Butterfly...|\"['Giacomo Puccin...|       NULL| 'Tullio Serafin']\"|200427.0|        NULL|      1958.0| 0.927|          0.0952| 0.00375|   0.985|      0.104|-41.957| 0.0405|73.06|0.0499|         1|    10.0|        NULL|\n",
      "+--------------------+--------------------+--------------------+-----------+-------------------+--------+------------+------------+------+----------------+--------+--------+-----------+-------+-------+-----+------+----------+--------+------------+\n",
      "\n"
     ]
    }
   ],
   "source": [
    "spotify_df.filter(col('year') == 200427.0).show()"
   ]
  },
  {
   "cell_type": "markdown",
   "id": "4c01ebee-c044-4baf-aff3-0929043305f1",
   "metadata": {},
   "source": [
    "### 10 ) Which artist has the most tracks in the dataset?"
   ]
  },
  {
   "cell_type": "code",
   "execution_count": 125,
   "id": "b17465e2-537c-47dc-9011-44cc4352009a",
   "metadata": {},
   "outputs": [
    {
     "name": "stdout",
     "output_type": "stream",
     "text": [
      "+--------------------+--------------------+--------------------+-----------+------------+------+------------+------------+------+----------------+--------+--------+-----------+-------+-------+----+----+----------+--------+------------+\n",
      "|                  id|                name|             artists|duration_ms|release_date|  year|acousticness|danceability|energy|instrumentalness|liveness|loudness|speechiness|  tempo|valence|mode| key|popularity|explicit|duration_min|\n",
      "+--------------------+--------------------+--------------------+-----------+------------+------+------------+------------+------+----------------+--------+--------+-----------+-------+-------+----+----+----------+--------+------------+\n",
      "|6KbQ3uYMLKb5jDxLF...|Singende Bataillo...| ['Carl Woitschach']|   158648.0|        1928|1928.0|       0.995|       0.708| 0.195|           0.563|   0.151| -12.428|     0.0506|118.469|  0.779| 1.0|10.0|         0|     0.0|       44.07|\n",
      "|6KuQTIu1KoTTkLXKr...|Fantasiestücke, O...|['Robert Schumann...|   282133.0|        1928|1928.0|       0.994|       0.379|0.0135|           0.901|  0.0763| -28.454|     0.0462| 83.972| 0.0767| 1.0| 8.0|         0|     0.0|       78.37|\n",
      "+--------------------+--------------------+--------------------+-----------+------------+------+------------+------------+------+----------------+--------+--------+-----------+-------+-------+----+----+----------+--------+------------+\n",
      "only showing top 2 rows\n",
      "\n"
     ]
    }
   ],
   "source": [
    "spotify_df.show(n=2)"
   ]
  },
  {
   "cell_type": "code",
   "execution_count": 137,
   "id": "57ac3289-7c80-4899-85e0-664af5867d11",
   "metadata": {},
   "outputs": [],
   "source": [
    "spotify_df = spotify_df.withColumn('cleaned_artists', from_json(col('artists'),ArrayType(StringType())))"
   ]
  },
  {
   "cell_type": "code",
   "execution_count": 149,
   "id": "36bec465-5332-40b6-b16b-96c09f6aaf75",
   "metadata": {},
   "outputs": [
    {
     "name": "stdout",
     "output_type": "stream",
     "text": [
      "+--------------------+--------------------+--------------------+-----------+------------+------+------------+------------+------+----------------+--------+--------+-----------+-------+-------+----+----+----------+--------+------------+--------------------+-----------------+\n",
      "|                  id|                name|             artists|duration_ms|release_date|  year|acousticness|danceability|energy|instrumentalness|liveness|loudness|speechiness|  tempo|valence|mode| key|popularity|explicit|duration_min|     cleaned_artists|   explode_artist|\n",
      "+--------------------+--------------------+--------------------+-----------+------------+------+------------+------------+------+----------------+--------+--------+-----------+-------+-------+----+----+----------+--------+------------+--------------------+-----------------+\n",
      "|6KbQ3uYMLKb5jDxLF...|Singende Bataillo...| ['Carl Woitschach']|   158648.0|        1928|1928.0|       0.995|       0.708| 0.195|           0.563|   0.151| -12.428|     0.0506|118.469|  0.779| 1.0|10.0|         0|     0.0|       44.07|   [Carl Woitschach]|  Carl Woitschach|\n",
      "|6KuQTIu1KoTTkLXKr...|Fantasiestücke, O...|['Robert Schumann...|   282133.0|        1928|1928.0|       0.994|       0.379|0.0135|           0.901|  0.0763| -28.454|     0.0462| 83.972| 0.0767| 1.0| 8.0|         0|     0.0|       78.37|[Robert Schumann,...|  Robert Schumann|\n",
      "|6KuQTIu1KoTTkLXKr...|Fantasiestücke, O...|['Robert Schumann...|   282133.0|        1928|1928.0|       0.994|       0.379|0.0135|           0.901|  0.0763| -28.454|     0.0462| 83.972| 0.0767| 1.0| 8.0|         0|     0.0|       78.37|[Robert Schumann,...|Vladimir Horowitz|\n",
      "+--------------------+--------------------+--------------------+-----------+------------+------+------------+------------+------+----------------+--------+--------+-----------+-------+-------+----+----+----------+--------+------------+--------------------+-----------------+\n",
      "only showing top 3 rows\n",
      "\n"
     ]
    }
   ],
   "source": [
    "dummy_df = spotify_df.withColumn('explode_artist', explode(col(\"cleaned_artists\")))\n",
    "dummy_df.show(3)"
   ]
  },
  {
   "cell_type": "code",
   "execution_count": 168,
   "id": "09197149-d5f1-4650-91a6-9fbaf4a33dfe",
   "metadata": {},
   "outputs": [
    {
     "name": "stdout",
     "output_type": "stream",
     "text": [
      "+---------+\n",
      "|cnt_album|\n",
      "+---------+\n",
      "|     2234|\n",
      "+---------+\n",
      "only showing top 1 row\n",
      "\n"
     ]
    }
   ],
   "source": [
    "dummy_df.groupby('explode_artist')\\\n",
    "        .agg(\n",
    "            count(col('id')).alias('cnt_album')\n",
    "        )\\\n",
    "        .orderBy(['cnt_album'], ascending = [False])\\\n",
    "        .select('cnt_album')\\\n",
    "        .show(1)"
   ]
  },
  {
   "cell_type": "markdown",
   "id": "5567c297-ce8e-40be-bea9-d3bd4f21361f",
   "metadata": {},
   "source": [
    "### 11) Find the top 5 artists by average track popularity using groupBy."
   ]
  },
  {
   "cell_type": "code",
   "execution_count": 174,
   "id": "1ed35a90-5c79-42c4-9655-ac2816728152",
   "metadata": {},
   "outputs": [
    {
     "name": "stdout",
     "output_type": "stream",
     "text": [
      "+--------------+---------+\n",
      "|explode_artist|avg_popul|\n",
      "+--------------+---------+\n",
      "|        Emilee|     95.0|\n",
      "|StaySolidRocky|     94.0|\n",
      "|         Topic|     92.0|\n",
      "|           A7S|     92.0|\n",
      "|   J. Rey Soul|     90.0|\n",
      "+--------------+---------+\n",
      "only showing top 5 rows\n",
      "\n"
     ]
    }
   ],
   "source": [
    "dummy_df.groupby('explode_artist')\\\n",
    "        .agg(\n",
    "            avg(col('popularity')).alias(\"avg_popul\")\n",
    "        )\\\n",
    "        .orderBy([\"avg_popul\"], ascending = [False])\\\n",
    "        .show(5)"
   ]
  },
  {
   "cell_type": "markdown",
   "id": "b033ff9a-2c63-4551-9336-4d37e810fc17",
   "metadata": {},
   "source": [
    "## 🪟 Window Functions"
   ]
  },
  {
   "cell_type": "markdown",
   "id": "25f31c36-7138-485f-a954-1b8a942f8f60",
   "metadata": {},
   "source": [
    "### 12) For each artist, assign a rank to their songs based on popularity."
   ]
  },
  {
   "cell_type": "code",
   "execution_count": 193,
   "id": "71251ee1-9225-4025-aadb-df832540d01f",
   "metadata": {},
   "outputs": [
    {
     "name": "stdout",
     "output_type": "stream",
     "text": [
      "+--------------------+--------------------+--------------+----------+-----+\n",
      "|                  id|                name|explode_artist|popularity|_rank|\n",
      "+--------------------+--------------------+--------------+----------+-----+\n",
      "|41LhQUkElADQ5YUbp...|...And To Those I...|   $uicideBoy$|        82|    1|\n",
      "|5XAPpyIoYF3QXP34H...|Kill Yourself (Pa...|   $uicideBoy$|        77|    2|\n",
      "|4irYeuAi87yyGHcI4...|               Paris|   $uicideBoy$|        74|    3|\n",
      "|70nmZhHZLNVYWP4NO...|Runnin' Thru The ...|   $uicideBoy$|        72|    4|\n",
      "|4yORBk6ZyYsJpnJch...|            2nd Hand|   $uicideBoy$|        72|    4|\n",
      "|09kvhnq2ONdNo4NRt...|My Flaws Burn Thr...|   $uicideBoy$|        70|    6|\n",
      "|7wPHEEGn0rWMZEDrD...|          Carrollton|   $uicideBoy$|        70|    6|\n",
      "|4CwA4CdTQqNv18QSA...|        Putrid Pride|   $uicideBoy$|        70|    6|\n",
      "|4VsMart0lkjUtyQnm...|  $outh $ide $uicide|   $uicideBoy$|        69|    9|\n",
      "|3ljehcUqmUI7BHXpQ...|All Dogs Go To He...|   $uicideBoy$|        68|   10|\n",
      "|2I12vOWeJU5ayhr6h...|             O Pana!|   $uicideBoy$|        67|   11|\n",
      "|4AtzZyzf00fxAaJO2...|   For The Last Time|   $uicideBoy$|        67|   11|\n",
      "|4owRIrDAJPqNWGf2S...|         Mount Sinai|   $uicideBoy$|        66|   13|\n",
      "|0kCfKToIFZFQQAaSQ...|                 LTE|   $uicideBoy$|        66|   13|\n",
      "|1ZKueMWFwl6qPxczB...|            122 Days|   $uicideBoy$|        66|   13|\n",
      "|2NMOz670rSOBd1lXq...|That Just Isn't E...|   $uicideBoy$|        65|   16|\n",
      "|5mrOnabhXnvCf5vFF...|         Joan of Arc|   $uicideBoy$|        64|   17|\n",
      "|6gTECpkjwbwvB2WD0...|What The Fuck Is ...|   $uicideBoy$|        64|   17|\n",
      "|2FtlcEcozzOwoDalM...|I Wanna Be Romant...|   $uicideBoy$|        64|   17|\n",
      "|2rfswp5Qafssih52T...|      Dead Batteries|   $uicideBoy$|        64|   17|\n",
      "|3bNCifwGPjqeeqzpj...|            Magazine|   $uicideBoy$|        64|   17|\n",
      "|4XQDrALwqj4J1YPqg...|   Champion Of Death|   $uicideBoy$|        64|   17|\n",
      "|3xPmq4xcdWtAPm4uU...|Aliens Are Ghosts...|   $uicideBoy$|        63|   23|\n",
      "|6yK9kwo8cBoVRNOyl...|   FUCKTHEPOPULATION|   $uicideBoy$|        63|   23|\n",
      "|3SCVHoGHV7GL0hmqc...|Memoirs Of A Gorilla|   $uicideBoy$|        63|   23|\n",
      "|0Xq0JbzlxLGNfdyR9...|Do You Believe In...|   $uicideBoy$|        63|   23|\n",
      "|2GFcIW9RM5nlKBPDW...|             Audubon|   $uicideBoy$|        63|   23|\n",
      "|5Ysq5wZM9uFeH2lKO...|GreyGods (feat. $...|   $uicideBoy$|        63|   23|\n",
      "|3BUFs1YNRBoGgYNrK...|New Chains, Same ...|   $uicideBoy$|        63|   23|\n",
      "|3cQPyVlnrmmWU5fQJ...|You're Now Tuning...|   $uicideBoy$|        62|   30|\n",
      "|4jCeguq9rMTlbMmPH...|               Venom|   $uicideBoy$|        62|   30|\n",
      "|53AiGAa0Qi2VbX7eU...|    Nicotine Patches|   $uicideBoy$|        62|   30|\n",
      "|44d4drNqTOl8CuH4M...|            DIEMONDS|   $uicideBoy$|        62|   30|\n",
      "|3JnbauRAM5tvB042w...|             Low Key|   $uicideBoy$|        62|   30|\n",
      "|72V0gNzrSDsdOQMuX...|        Hard To Tell|   $uicideBoy$|        61|   35|\n",
      "|1QSMyV4BAvNRwIpRz...|Now I'm Up To My ...|   $uicideBoy$|        61|   35|\n",
      "|2wzpr7E2FkOISAbYQ...|Slip On A Banana ...|   $uicideBoy$|        61|   35|\n",
      "|240audWazVjwvwh7X...|   For the Last Time|   $uicideBoy$|        61|   35|\n",
      "|4SfkdEVtC16VvjCyD...|           I'm Done.|   $uicideBoy$|        61|   35|\n",
      "|0fyBYsrmpihh1mfal...|          King Tulip|   $uicideBoy$|        61|   35|\n",
      "|6VFKlX5qzxwmIiezq...|    Meet Mr. NICEGUY|   $uicideBoy$|        61|   35|\n",
      "|0MsOQYWpwActqMERH...|        Muddy Blunts|   $uicideBoy$|        61|   35|\n",
      "|44ApO1Q5s0dXveC0z...|     Obey The Walrus|   $uicideBoy$|        60|   43|\n",
      "|4Tfobc8QPPPKVlk7K...|Either Hated Or I...|   $uicideBoy$|        60|   43|\n",
      "|4nutwPQrK56fFmrAM...|      10,000 Degrees|   $uicideBoy$|        60|   43|\n",
      "|7u65r2RJtAtjwS3A6...|      Gloss Of Blood|   $uicideBoy$|        60|   43|\n",
      "|0AQXOzjEG2ofwGrDy...|Seppuku (feat. Su...|   $uicideBoy$|        60|   43|\n",
      "|4aRqS4w0qWT56NU75...|    Ultimate $uicide|   $uicideBoy$|        60|   43|\n",
      "|599cYawsBthDvauPo...|2 Hot 4 U (feat. ...|   $uicideBoy$|        59|   49|\n",
      "|6UIebetubMSW1SB74...|            Sunshine|   $uicideBoy$|        56|   50|\n",
      "+--------------------+--------------------+--------------+----------+-----+\n",
      "only showing top 50 rows\n",
      "\n"
     ]
    }
   ],
   "source": [
    "window_spec = Window.partitionBy(col(\"explode_artist\")).orderBy(col(\"popularity\").desc())\n",
    "dummy_df.withColumn(\"_rank\", rank().over(window_spec))\\\n",
    "        .select('id', 'name', 'explode_artist', 'popularity', '_rank')\\\n",
    "        .filter(col('explode_artist') == '$uicideBoy$')\\\n",
    "        .show(50)"
   ]
  },
  {
   "cell_type": "code",
   "execution_count": 199,
   "id": "aea0924d-16a1-4e4c-a45a-9277b0fd1646",
   "metadata": {},
   "outputs": [
    {
     "name": "stdout",
     "output_type": "stream",
     "text": [
      "+--------------------+--------------------+--------------+----------+-----------+\n",
      "|                  id|                name|explode_artist|popularity|_dense_rank|\n",
      "+--------------------+--------------------+--------------+----------+-----------+\n",
      "|41LhQUkElADQ5YUbp...|...And To Those I...|   $uicideBoy$|        82|          1|\n",
      "|5XAPpyIoYF3QXP34H...|Kill Yourself (Pa...|   $uicideBoy$|        77|          2|\n",
      "|4irYeuAi87yyGHcI4...|               Paris|   $uicideBoy$|        74|          3|\n",
      "|70nmZhHZLNVYWP4NO...|Runnin' Thru The ...|   $uicideBoy$|        72|          4|\n",
      "|4yORBk6ZyYsJpnJch...|            2nd Hand|   $uicideBoy$|        72|          4|\n",
      "|09kvhnq2ONdNo4NRt...|My Flaws Burn Thr...|   $uicideBoy$|        70|          5|\n",
      "|7wPHEEGn0rWMZEDrD...|          Carrollton|   $uicideBoy$|        70|          5|\n",
      "|4CwA4CdTQqNv18QSA...|        Putrid Pride|   $uicideBoy$|        70|          5|\n",
      "|4VsMart0lkjUtyQnm...|  $outh $ide $uicide|   $uicideBoy$|        69|          6|\n",
      "|3ljehcUqmUI7BHXpQ...|All Dogs Go To He...|   $uicideBoy$|        68|          7|\n",
      "|2I12vOWeJU5ayhr6h...|             O Pana!|   $uicideBoy$|        67|          8|\n",
      "|4AtzZyzf00fxAaJO2...|   For The Last Time|   $uicideBoy$|        67|          8|\n",
      "|4owRIrDAJPqNWGf2S...|         Mount Sinai|   $uicideBoy$|        66|          9|\n",
      "|0kCfKToIFZFQQAaSQ...|                 LTE|   $uicideBoy$|        66|          9|\n",
      "|1ZKueMWFwl6qPxczB...|            122 Days|   $uicideBoy$|        66|          9|\n",
      "|2NMOz670rSOBd1lXq...|That Just Isn't E...|   $uicideBoy$|        65|         10|\n",
      "|5mrOnabhXnvCf5vFF...|         Joan of Arc|   $uicideBoy$|        64|         11|\n",
      "|6gTECpkjwbwvB2WD0...|What The Fuck Is ...|   $uicideBoy$|        64|         11|\n",
      "|2FtlcEcozzOwoDalM...|I Wanna Be Romant...|   $uicideBoy$|        64|         11|\n",
      "|2rfswp5Qafssih52T...|      Dead Batteries|   $uicideBoy$|        64|         11|\n",
      "+--------------------+--------------------+--------------+----------+-----------+\n",
      "only showing top 20 rows\n",
      "\n"
     ]
    }
   ],
   "source": [
    "window_spec = Window.partitionBy(col(\"explode_artist\")).orderBy(col(\"popularity\").desc())\n",
    "dummy_df.withColumn('_dense_rank', dense_rank().over(window_spec))\\\n",
    "        .select('id', 'name', 'explode_artist', 'popularity', '_dense_rank')\\\n",
    "        .filter(col('explode_artist') == '$uicideBoy$')\\\n",
    "        .show()"
   ]
  },
  {
   "cell_type": "markdown",
   "id": "86418fbe-1586-4228-82e5-d7ed572569fb",
   "metadata": {},
   "source": [
    "## 🧠 User-Defined Functions (UDFs)"
   ]
  },
  {
   "cell_type": "markdown",
   "id": "4d8f490e-d5eb-49ba-9221-0cc2fa756954",
   "metadata": {},
   "source": [
    "### 13) Create a UDF to classify songs as \"Hit\" if popularity > 75, else \"Normal\"."
   ]
  },
  {
   "cell_type": "code",
   "execution_count": null,
   "id": "76b23dea-b53a-440c-88ff-79ea56b4ff54",
   "metadata": {},
   "outputs": [],
   "source": [
    "def fn_song_pop(popularity):\n",
    "    return \"Hit\" if popularity > 75 else \"Normal\"\n",
    "\n"
   ]
  }
 ],
 "metadata": {
  "kernelspec": {
   "display_name": "projects_env",
   "language": "python",
   "name": "projects_env"
  },
  "language_info": {
   "codemirror_mode": {
    "name": "ipython",
    "version": 3
   },
   "file_extension": ".py",
   "mimetype": "text/x-python",
   "name": "python",
   "nbconvert_exporter": "python",
   "pygments_lexer": "ipython3",
   "version": "3.10.5"
  }
 },
 "nbformat": 4,
 "nbformat_minor": 5
}
